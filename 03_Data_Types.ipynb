{
  "nbformat": 4,
  "nbformat_minor": 0,
  "metadata": {
    "colab": {
      "name": "03_Data_Types.ipynb",
      "provenance": [],
      "toc_visible": true,
      "include_colab_link": true
    },
    "kernelspec": {
      "name": "python3",
      "display_name": "Python 3"
    },
    "language_info": {
      "name": "python"
    }
  },
  "cells": [
    {
      "cell_type": "markdown",
      "metadata": {
        "id": "view-in-github",
        "colab_type": "text"
      },
      "source": [
        "<a href=\"https://colab.research.google.com/github/sreeja878/fmml2021/blob/main/03_Data_Types.ipynb\" target=\"_parent\"><img src=\"https://colab.research.google.com/assets/colab-badge.svg\" alt=\"Open In Colab\"/></a>"
      ]
    },
    {
      "cell_type": "markdown",
      "metadata": {
        "id": "CPk9Hiozv8JE"
      },
      "source": [
        "#### Basic Data Types - Integer, Float, Boolean, String, None"
      ]
    },
    {
      "cell_type": "code",
      "metadata": {
        "id": "FkdEec_QriO_"
      },
      "source": [
        "some_int = 3"
      ],
      "execution_count": 1,
      "outputs": []
    },
    {
      "cell_type": "code",
      "metadata": {
        "id": "IJ6gUIS24QPb",
        "outputId": "a52ecfb5-4d8c-41e7-d0be-624a5dae1fec",
        "colab": {
          "base_uri": "https://localhost:8080/"
        }
      },
      "source": [
        "type(some_int)"
      ],
      "execution_count": 2,
      "outputs": [
        {
          "output_type": "execute_result",
          "data": {
            "text/plain": [
              "int"
            ]
          },
          "metadata": {},
          "execution_count": 2
        }
      ]
    },
    {
      "cell_type": "code",
      "metadata": {
        "id": "VTce7evQ0ZJ-"
      },
      "source": [
        "some_int += 4"
      ],
      "execution_count": 3,
      "outputs": []
    },
    {
      "cell_type": "code",
      "metadata": {
        "id": "F9kJID_q4Vul",
        "outputId": "b37f0ae9-1831-4d30-cb25-ce30b6b96864",
        "colab": {
          "base_uri": "https://localhost:8080/"
        }
      },
      "source": [
        "some_int"
      ],
      "execution_count": 4,
      "outputs": [
        {
          "output_type": "execute_result",
          "data": {
            "text/plain": [
              "7"
            ]
          },
          "metadata": {},
          "execution_count": 4
        }
      ]
    },
    {
      "cell_type": "code",
      "metadata": {
        "id": "tBmSj1-P0a52"
      },
      "source": [
        "some_other_int = int(5) # casting"
      ],
      "execution_count": 5,
      "outputs": []
    },
    {
      "cell_type": "code",
      "metadata": {
        "id": "Lmdkh7DI4d51",
        "outputId": "f207f6ba-63c3-479b-bbdb-9f924d141213",
        "colab": {
          "base_uri": "https://localhost:8080/"
        }
      },
      "source": [
        "some_other_int"
      ],
      "execution_count": 6,
      "outputs": [
        {
          "output_type": "execute_result",
          "data": {
            "text/plain": [
              "5"
            ]
          },
          "metadata": {},
          "execution_count": 6
        }
      ]
    },
    {
      "cell_type": "code",
      "metadata": {
        "id": "iNTYkoVX0dAF"
      },
      "source": [
        "some_float = 3.0"
      ],
      "execution_count": 7,
      "outputs": []
    },
    {
      "cell_type": "code",
      "metadata": {
        "id": "8893F0us0e8U",
        "outputId": "844487f3-b600-4b79-b94e-a66e650fc435",
        "colab": {
          "base_uri": "https://localhost:8080/"
        }
      },
      "source": [
        "type (some_float)"
      ],
      "execution_count": 8,
      "outputs": [
        {
          "output_type": "execute_result",
          "data": {
            "text/plain": [
              "float"
            ]
          },
          "metadata": {},
          "execution_count": 8
        }
      ]
    },
    {
      "cell_type": "code",
      "metadata": {
        "id": "8-XVO-4P4npP",
        "outputId": "09d7b600-3cf2-486d-a98b-ac5cbb34329d",
        "colab": {
          "base_uri": "https://localhost:8080/"
        }
      },
      "source": [
        "some_int = 3\n",
        "some_other_int = 8\n",
        "something = some_other_int / some_int\n",
        "type(something)\n",
        "print (something)"
      ],
      "execution_count": 12,
      "outputs": [
        {
          "output_type": "stream",
          "name": "stdout",
          "text": [
            "2.6666666666666665\n"
          ]
        }
      ]
    },
    {
      "cell_type": "code",
      "metadata": {
        "id": "Swz27lkw46p4"
      },
      "source": [
        "some_bool = False"
      ],
      "execution_count": 13,
      "outputs": []
    },
    {
      "cell_type": "code",
      "metadata": {
        "id": "1srLd0394-3g",
        "outputId": "ab2690e3-0a1e-405a-be7a-37354c269824",
        "colab": {
          "base_uri": "https://localhost:8080/"
        }
      },
      "source": [
        "type(some_bool)"
      ],
      "execution_count": 14,
      "outputs": [
        {
          "output_type": "execute_result",
          "data": {
            "text/plain": [
              "bool"
            ]
          },
          "metadata": {},
          "execution_count": 14
        }
      ]
    },
    {
      "cell_type": "code",
      "metadata": {
        "id": "iVG3-KnQ5B2d",
        "outputId": "fbf3592b-41fb-4d6d-c1ef-bda34ab6d752",
        "colab": {
          "base_uri": "https://localhost:8080/"
        }
      },
      "source": [
        "some_other_bool = bool(False)\n",
        "some_other_bool"
      ],
      "execution_count": 15,
      "outputs": [
        {
          "output_type": "execute_result",
          "data": {
            "text/plain": [
              "False"
            ]
          },
          "metadata": {},
          "execution_count": 15
        }
      ]
    },
    {
      "cell_type": "code",
      "metadata": {
        "id": "9BaOPoPV5OWn",
        "outputId": "d37a4910-bc7d-45e5-cd4d-d865314e0f58",
        "colab": {
          "base_uri": "https://localhost:8080/"
        }
      },
      "source": [
        "bool()"
      ],
      "execution_count": 16,
      "outputs": [
        {
          "output_type": "execute_result",
          "data": {
            "text/plain": [
              "False"
            ]
          },
          "metadata": {},
          "execution_count": 16
        }
      ]
    },
    {
      "cell_type": "code",
      "metadata": {
        "id": "1clAB1Wn5Qsy",
        "outputId": "59a97fff-a625-43cc-be34-a91dbdfdd580",
        "colab": {
          "base_uri": "https://localhost:8080/"
        }
      },
      "source": [
        "bool([])"
      ],
      "execution_count": 17,
      "outputs": [
        {
          "output_type": "execute_result",
          "data": {
            "text/plain": [
              "False"
            ]
          },
          "metadata": {},
          "execution_count": 17
        }
      ]
    },
    {
      "cell_type": "code",
      "metadata": {
        "id": "ikc1wSRs5TPD",
        "outputId": "a13071b8-0d9d-4953-8082-b7abf12c422e",
        "colab": {
          "base_uri": "https://localhost:8080/"
        }
      },
      "source": [
        "bool({})"
      ],
      "execution_count": 18,
      "outputs": [
        {
          "output_type": "execute_result",
          "data": {
            "text/plain": [
              "False"
            ]
          },
          "metadata": {},
          "execution_count": 18
        }
      ]
    },
    {
      "cell_type": "code",
      "metadata": {
        "id": "YTfUKX2-5VdH",
        "outputId": "640f2a50-3f71-4640-bb0c-120ed9b86f06",
        "colab": {
          "base_uri": "https://localhost:8080/"
        }
      },
      "source": [
        "bool(())"
      ],
      "execution_count": 20,
      "outputs": [
        {
          "output_type": "execute_result",
          "data": {
            "text/plain": [
              "False"
            ]
          },
          "metadata": {},
          "execution_count": 20
        }
      ]
    },
    {
      "cell_type": "code",
      "metadata": {
        "id": "SfbHKsdH5Xq1",
        "outputId": "56c6f19c-3ec4-46f7-87b1-4d7c67f729d4",
        "colab": {
          "base_uri": "https://localhost:8080/"
        }
      },
      "source": [
        "bool((1, 3))"
      ],
      "execution_count": 21,
      "outputs": [
        {
          "output_type": "execute_result",
          "data": {
            "text/plain": [
              "True"
            ]
          },
          "metadata": {},
          "execution_count": 21
        }
      ]
    },
    {
      "cell_type": "code",
      "metadata": {
        "id": "7bP-r-os5hTy"
      },
      "source": [
        "some_str = \"hello \"\n",
        "some_other_str = 'happy new year'"
      ],
      "execution_count": 23,
      "outputs": []
    },
    {
      "cell_type": "code",
      "metadata": {
        "id": "bKFczqox5nUc"
      },
      "source": [
        "merge_str = some_str + some_other_str # concatenation"
      ],
      "execution_count": 24,
      "outputs": []
    },
    {
      "cell_type": "code",
      "metadata": {
        "id": "rBqo7-ws5vw3",
        "outputId": "a80e4960-1e0e-4385-d4f4-b5988d010cb3",
        "colab": {
          "base_uri": "https://localhost:8080/"
        }
      },
      "source": [
        "print (merge_str)"
      ],
      "execution_count": 25,
      "outputs": [
        {
          "output_type": "stream",
          "name": "stdout",
          "text": [
            "hello happy new year\n"
          ]
        }
      ]
    },
    {
      "cell_type": "code",
      "metadata": {
        "id": "K29mB5kW6Bub",
        "outputId": "19c324d9-81fe-41be-eb39-4ce659edac7d",
        "colab": {
          "base_uri": "https://localhost:8080/"
        }
      },
      "source": [
        "for every_char in merge_str:\n",
        "  print (every_char)"
      ],
      "execution_count": 26,
      "outputs": [
        {
          "output_type": "stream",
          "name": "stdout",
          "text": [
            "h\n",
            "e\n",
            "l\n",
            "l\n",
            "o\n",
            " \n",
            "h\n",
            "a\n",
            "p\n",
            "p\n",
            "y\n",
            " \n",
            "n\n",
            "e\n",
            "w\n",
            " \n",
            "y\n",
            "e\n",
            "a\n",
            "r\n"
          ]
        }
      ]
    },
    {
      "cell_type": "code",
      "metadata": {
        "id": "zGEuwObI6mpi",
        "outputId": "c1cf2764-eff5-4e32-e612-2fc318c7045b",
        "colab": {
          "base_uri": "https://localhost:8080/"
        }
      },
      "source": [
        "for every_char in merge_str: print (every_char, end=\"\")"
      ],
      "execution_count": 33,
      "outputs": [
        {
          "output_type": "stream",
          "name": "stdout",
          "text": [
            "hello happy new year"
          ]
        }
      ]
    },
    {
      "cell_type": "markdown",
      "metadata": {
        "id": "icfeOEilxRpS"
      },
      "source": [
        "#### Type Casting"
      ]
    },
    {
      "cell_type": "code",
      "metadata": {
        "id": "k4KUIUtMxkDs",
        "outputId": "cb2944e4-00d7-4377-e719-6234f6bcaf4e",
        "colab": {
          "base_uri": "https://localhost:8080/"
        }
      },
      "source": [
        "i = 4\n",
        "j = float(i)\n",
        "print (j)"
      ],
      "execution_count": 41,
      "outputs": [
        {
          "output_type": "stream",
          "name": "stdout",
          "text": [
            "4.0\n"
          ]
        }
      ]
    },
    {
      "cell_type": "code",
      "metadata": {
        "id": "2emiqfVo2LXn",
        "outputId": "3ddaabab-ed09-4beb-f4a8-706813d0ee3f",
        "colab": {
          "base_uri": "https://localhost:8080/"
        }
      },
      "source": [
        "type(j)"
      ],
      "execution_count": 42,
      "outputs": [
        {
          "output_type": "execute_result",
          "data": {
            "text/plain": [
              "float"
            ]
          },
          "metadata": {},
          "execution_count": 42
        }
      ]
    },
    {
      "cell_type": "code",
      "metadata": {
        "id": "eKw6bw3T2UhB",
        "outputId": "3ead039a-9061-4d5a-94e8-1523b0de7893",
        "colab": {
          "base_uri": "https://localhost:8080/"
        }
      },
      "source": [
        "i = int(j)\n",
        "type(i)"
      ],
      "execution_count": 43,
      "outputs": [
        {
          "output_type": "execute_result",
          "data": {
            "text/plain": [
              "int"
            ]
          },
          "metadata": {},
          "execution_count": 43
        }
      ]
    },
    {
      "cell_type": "code",
      "metadata": {
        "id": "l0pRioZH2ZFp",
        "outputId": "ddc36ca1-7022-4b78-adb5-93c98b90d169",
        "colab": {
          "base_uri": "https://localhost:8080/"
        }
      },
      "source": [
        "some_str = str(i)\n",
        "print(some_str)"
      ],
      "execution_count": 48,
      "outputs": [
        {
          "output_type": "stream",
          "name": "stdout",
          "text": [
            "4\n"
          ]
        }
      ]
    },
    {
      "cell_type": "code",
      "metadata": {
        "id": "tLKkWWrA2fOa",
        "outputId": "9a40268f-0822-42a8-84a2-c9b97a97a04c",
        "colab": {
          "base_uri": "https://localhost:8080/"
        }
      },
      "source": [
        "some_other_str = str(j)\n",
        "print (some_other_str)\n",
        "print (\"the new string now is \" +some_other_str) # string concatenation"
      ],
      "execution_count": 51,
      "outputs": [
        {
          "output_type": "stream",
          "name": "stdout",
          "text": [
            "4.0\n",
            "the new string now is 4.0\n"
          ]
        }
      ]
    },
    {
      "cell_type": "code",
      "metadata": {
        "id": "BzvOEP7S3DM7"
      },
      "source": [
        "some_bool = bool(some_other_str)"
      ],
      "execution_count": 52,
      "outputs": []
    },
    {
      "cell_type": "code",
      "metadata": {
        "id": "Ezy9S--R3ILJ",
        "outputId": "cb88d642-e002-4b33-a662-4ff50ffdd8b1",
        "colab": {
          "base_uri": "https://localhost:8080/"
        }
      },
      "source": [
        "some_bool"
      ],
      "execution_count": 53,
      "outputs": [
        {
          "output_type": "execute_result",
          "data": {
            "text/plain": [
              "True"
            ]
          },
          "metadata": {},
          "execution_count": 53
        }
      ]
    },
    {
      "cell_type": "markdown",
      "metadata": {
        "id": "sIYTZKz11myP"
      },
      "source": [
        "#### Set"
      ]
    },
    {
      "cell_type": "code",
      "metadata": {
        "id": "pUSDI8dcVz0m"
      },
      "source": [
        "# Set - collection of items which are not in any particular order and are not indexed. \n",
        "# Duplicates are not allowed in set\n",
        "# Constructor is set()\n",
        "some_set = {'a', 'c', (2.3, 3.2, 2)}"
      ],
      "execution_count": 57,
      "outputs": []
    },
    {
      "cell_type": "code",
      "metadata": {
        "id": "OQ6C43GzVAiZ",
        "outputId": "7e21a568-cb57-4798-aa41-d6a95827c20c",
        "colab": {
          "base_uri": "https://localhost:8080/"
        }
      },
      "source": [
        "some_set"
      ],
      "execution_count": 58,
      "outputs": [
        {
          "output_type": "execute_result",
          "data": {
            "text/plain": [
              "{(2.3, 3.2, 2), 'a', 'c'}"
            ]
          },
          "metadata": {},
          "execution_count": 58
        }
      ]
    },
    {
      "cell_type": "code",
      "metadata": {
        "id": "LtTv6v9rU3If"
      },
      "source": [
        "some_set.update([1, 2, 3])"
      ],
      "execution_count": 59,
      "outputs": []
    },
    {
      "cell_type": "code",
      "metadata": {
        "id": "9LP1hydIUOpH",
        "outputId": "a1a243ae-2e15-44da-b8df-e8469021aa95",
        "colab": {
          "base_uri": "https://localhost:8080/"
        }
      },
      "source": [
        "some_set"
      ],
      "execution_count": 60,
      "outputs": [
        {
          "output_type": "execute_result",
          "data": {
            "text/plain": [
              "{(2.3, 3.2, 2), 1, 2, 3, 'a', 'c'}"
            ]
          },
          "metadata": {},
          "execution_count": 60
        }
      ]
    },
    {
      "cell_type": "code",
      "metadata": {
        "id": "fPA9CCQ8Q6IN",
        "outputId": "47cc8c8a-ef17-4948-bc1c-c05cf6ac2362",
        "colab": {
          "base_uri": "https://localhost:8080/"
        }
      },
      "source": [
        "type(some_set)"
      ],
      "execution_count": 61,
      "outputs": [
        {
          "output_type": "execute_result",
          "data": {
            "text/plain": [
              "set"
            ]
          },
          "metadata": {},
          "execution_count": 61
        }
      ]
    },
    {
      "cell_type": "code",
      "metadata": {
        "id": "4IZt6LPeVL3W"
      },
      "source": [
        "some_set.add(5)"
      ],
      "execution_count": 62,
      "outputs": []
    },
    {
      "cell_type": "code",
      "metadata": {
        "id": "xr8c_BjPVS18",
        "outputId": "7189fe2a-06ba-4c64-c3a2-c7219aa37ad3",
        "colab": {
          "base_uri": "https://localhost:8080/"
        }
      },
      "source": [
        "some_set.pop()"
      ],
      "execution_count": 63,
      "outputs": [
        {
          "output_type": "execute_result",
          "data": {
            "text/plain": [
              "1"
            ]
          },
          "metadata": {},
          "execution_count": 63
        }
      ]
    },
    {
      "cell_type": "code",
      "metadata": {
        "id": "Vo38o55yVaPV",
        "outputId": "4ff74317-c85b-4e4d-8a1d-84bb1287a1ae",
        "colab": {
          "base_uri": "https://localhost:8080/"
        }
      },
      "source": [
        "for item in some_set: print (item)"
      ],
      "execution_count": 64,
      "outputs": [
        {
          "output_type": "stream",
          "name": "stdout",
          "text": [
            "2\n",
            "3\n",
            "(2.3, 3.2, 2)\n",
            "5\n",
            "c\n",
            "a\n"
          ]
        }
      ]
    },
    {
      "cell_type": "code",
      "metadata": {
        "id": "F6yTElmsVhHO",
        "outputId": "b2688325-5b6b-47b7-b625-7cee114ed915",
        "colab": {
          "base_uri": "https://localhost:8080/"
        }
      },
      "source": [
        "some_set.discard(3)\n",
        "some_set"
      ],
      "execution_count": 65,
      "outputs": [
        {
          "output_type": "execute_result",
          "data": {
            "text/plain": [
              "{(2.3, 3.2, 2), 2, 5, 'a', 'c'}"
            ]
          },
          "metadata": {},
          "execution_count": 65
        }
      ]
    },
    {
      "cell_type": "code",
      "metadata": {
        "id": "1nSJ7F3OXVdK"
      },
      "source": [
        "# set - union operator\n",
        "some_set = {'a', 'b', 'c'}\n",
        "some_other_set = {1, 2, 3}\n",
        "new_set = some_set | some_other_set"
      ],
      "execution_count": 66,
      "outputs": []
    },
    {
      "cell_type": "code",
      "metadata": {
        "id": "o8Wbaj5EXgN5",
        "outputId": "177ac850-095f-4edf-94ff-203bad397c81",
        "colab": {
          "base_uri": "https://localhost:8080/"
        }
      },
      "source": [
        "new_set"
      ],
      "execution_count": 68,
      "outputs": [
        {
          "output_type": "execute_result",
          "data": {
            "text/plain": [
              "{1, 2, 3, 'a', 'b', 'c'}"
            ]
          },
          "metadata": {},
          "execution_count": 68
        }
      ]
    },
    {
      "cell_type": "code",
      "metadata": {
        "id": "RftwibWYXqXM",
        "outputId": "af1fb4b7-ad1a-4ee7-89b0-ca5cdd079a31",
        "colab": {
          "base_uri": "https://localhost:8080/"
        }
      },
      "source": [
        "some_set.union(some_other_set)"
      ],
      "execution_count": 69,
      "outputs": [
        {
          "output_type": "execute_result",
          "data": {
            "text/plain": [
              "{1, 2, 3, 'a', 'b', 'c'}"
            ]
          },
          "metadata": {},
          "execution_count": 69
        }
      ]
    },
    {
      "cell_type": "code",
      "metadata": {
        "id": "TOMRqxLqXt8F",
        "outputId": "2ab04328-0707-4a8c-87eb-6d1cdbf04557",
        "colab": {
          "base_uri": "https://localhost:8080/"
        }
      },
      "source": [
        "some_set"
      ],
      "execution_count": 70,
      "outputs": [
        {
          "output_type": "execute_result",
          "data": {
            "text/plain": [
              "{'a', 'b', 'c'}"
            ]
          },
          "metadata": {},
          "execution_count": 70
        }
      ]
    },
    {
      "cell_type": "code",
      "metadata": {
        "id": "TsCFAP95Xvi7",
        "outputId": "8314a9b3-67ba-4bdc-fa1c-faa372ab78bb",
        "colab": {
          "base_uri": "https://localhost:8080/"
        }
      },
      "source": [
        "some_other_set"
      ],
      "execution_count": 71,
      "outputs": [
        {
          "output_type": "execute_result",
          "data": {
            "text/plain": [
              "{1, 2, 3}"
            ]
          },
          "metadata": {},
          "execution_count": 71
        }
      ]
    },
    {
      "cell_type": "code",
      "metadata": {
        "id": "OjaEoS09X-UZ"
      },
      "source": [
        "# intersection - &\n",
        "new_set = {2, 3, 6}"
      ],
      "execution_count": 72,
      "outputs": []
    },
    {
      "cell_type": "code",
      "metadata": {
        "id": "iYspF8zbYLWC",
        "outputId": "9f31cb6a-05b1-4d7c-a0a8-c1802551f2d6",
        "colab": {
          "base_uri": "https://localhost:8080/"
        }
      },
      "source": [
        "print(new_set & some_other_set)"
      ],
      "execution_count": 73,
      "outputs": [
        {
          "output_type": "stream",
          "name": "stdout",
          "text": [
            "{2, 3}\n"
          ]
        }
      ]
    },
    {
      "cell_type": "code",
      "metadata": {
        "id": "oUoeuL3QYcC6",
        "outputId": "67e5d813-8f89-4513-9058-6ddfcde34fa0",
        "colab": {
          "base_uri": "https://localhost:8080/"
        }
      },
      "source": [
        "print (new_set.intersection(some_other_set))"
      ],
      "execution_count": 74,
      "outputs": [
        {
          "output_type": "stream",
          "name": "stdout",
          "text": [
            "{2, 3}\n"
          ]
        }
      ]
    },
    {
      "cell_type": "markdown",
      "metadata": {
        "id": "j_gdIAq3xkhj"
      },
      "source": [
        "#### List (extended data type)"
      ]
    },
    {
      "cell_type": "code",
      "metadata": {
        "id": "jPVlA4yXykkw"
      },
      "source": [
        "# List\n",
        "# A collection of items which are ordered. List is mutable.\n",
        "# Constructor is list()\n",
        "a = [1, 2, 3, \"hello\", 5]"
      ],
      "execution_count": 76,
      "outputs": []
    },
    {
      "cell_type": "code",
      "metadata": {
        "id": "RcAAcHcO4HVI"
      },
      "source": [
        "a.append('hi')"
      ],
      "execution_count": 77,
      "outputs": []
    },
    {
      "cell_type": "code",
      "metadata": {
        "id": "6aOeQG784Jmc",
        "outputId": "d351dbdf-1874-478f-c66d-960e995a9a61",
        "colab": {
          "base_uri": "https://localhost:8080/"
        }
      },
      "source": [
        "b = [2, 4, 'next']\n",
        "a.append(b)\n",
        "print (b)"
      ],
      "execution_count": 78,
      "outputs": [
        {
          "output_type": "stream",
          "name": "stdout",
          "text": [
            "[2, 4, 'next']\n"
          ]
        }
      ]
    },
    {
      "cell_type": "code",
      "metadata": {
        "id": "jhDrVLHy4ccH",
        "outputId": "4bbe9385-80c6-4dfd-c4fc-5c017d94e826",
        "colab": {
          "base_uri": "https://localhost:8080/"
        }
      },
      "source": [
        "c = a[2:4]\n",
        "print (c)"
      ],
      "execution_count": 79,
      "outputs": [
        {
          "output_type": "stream",
          "name": "stdout",
          "text": [
            "[3, 'hello']\n"
          ]
        }
      ]
    },
    {
      "cell_type": "code",
      "metadata": {
        "id": "DMe9VFw_4xn1",
        "outputId": "17b1bd34-fdfa-4ec7-a46e-782a28c2db32",
        "colab": {
          "base_uri": "https://localhost:8080/"
        }
      },
      "source": [
        "print (len(c))"
      ],
      "execution_count": 80,
      "outputs": [
        {
          "output_type": "stream",
          "name": "stdout",
          "text": [
            "2\n"
          ]
        }
      ]
    },
    {
      "cell_type": "code",
      "metadata": {
        "id": "rUQUC3pa4MhA",
        "outputId": "3c6942bd-0e68-4284-9a1c-16eea3191de1",
        "colab": {
          "base_uri": "https://localhost:8080/"
        }
      },
      "source": [
        "a = []\n",
        "print (a)"
      ],
      "execution_count": 81,
      "outputs": [
        {
          "output_type": "stream",
          "name": "stdout",
          "text": [
            "[]\n"
          ]
        }
      ]
    },
    {
      "cell_type": "markdown",
      "metadata": {
        "id": "c0QOr__1103r"
      },
      "source": [
        "#### Tuple (extended data type)"
      ]
    },
    {
      "cell_type": "code",
      "metadata": {
        "id": "6zPu2iJs2crj"
      },
      "source": [
        "# Tuple - collection of items which are ordered but immutable.\n",
        "# Constructor is tuple()\n",
        "a = (\"hello\", \"how\", (1, 2, 3), \"you\")"
      ],
      "execution_count": 82,
      "outputs": []
    },
    {
      "cell_type": "code",
      "metadata": {
        "id": "jQOy8m8j2gSo",
        "outputId": "1338828a-5202-4e4c-eeed-fb38ca69587d",
        "colab": {
          "base_uri": "https://localhost:8080/"
        }
      },
      "source": [
        "print (type(a))"
      ],
      "execution_count": 84,
      "outputs": [
        {
          "output_type": "stream",
          "name": "stdout",
          "text": [
            "<class 'tuple'>\n"
          ]
        }
      ]
    },
    {
      "cell_type": "code",
      "metadata": {
        "id": "NyRXLzGc403j",
        "outputId": "5c98b2b8-dcdf-400a-a7eb-9e521f7f8c34",
        "colab": {
          "base_uri": "https://localhost:8080/"
        }
      },
      "source": [
        "print (len(a))"
      ],
      "execution_count": 85,
      "outputs": [
        {
          "output_type": "stream",
          "name": "stdout",
          "text": [
            "4\n"
          ]
        }
      ]
    },
    {
      "cell_type": "code",
      "metadata": {
        "id": "RXX7JrZXk8mW",
        "outputId": "235f3420-c792-40c0-d658-b76538386340",
        "colab": {
          "base_uri": "https://localhost:8080/"
        }
      },
      "source": [
        "for i in range(0, len(a)): print (a[i])"
      ],
      "execution_count": 86,
      "outputs": [
        {
          "output_type": "stream",
          "name": "stdout",
          "text": [
            "hello\n",
            "how\n",
            "(1, 2, 3)\n",
            "you\n"
          ]
        }
      ]
    },
    {
      "cell_type": "code",
      "metadata": {
        "id": "mMUF7ZBz2gO0",
        "outputId": "29c35aca-1dc6-41cd-bd2b-4c9897239be3",
        "colab": {
          "base_uri": "https://localhost:8080/"
        }
      },
      "source": [
        "print (a[0])"
      ],
      "execution_count": 87,
      "outputs": [
        {
          "output_type": "stream",
          "name": "stdout",
          "text": [
            "hello\n"
          ]
        }
      ]
    },
    {
      "cell_type": "code",
      "metadata": {
        "id": "56ure9QY2gLL"
      },
      "source": [
        "b = a[1:3]"
      ],
      "execution_count": 88,
      "outputs": []
    },
    {
      "cell_type": "code",
      "metadata": {
        "id": "Jauf9eI9kyBS",
        "outputId": "52985aee-f48e-424d-d4b5-6edf3cfaa376",
        "colab": {
          "base_uri": "https://localhost:8080/"
        }
      },
      "source": [
        "type(b)"
      ],
      "execution_count": 89,
      "outputs": [
        {
          "output_type": "execute_result",
          "data": {
            "text/plain": [
              "tuple"
            ]
          },
          "metadata": {},
          "execution_count": 89
        }
      ]
    },
    {
      "cell_type": "code",
      "metadata": {
        "id": "BJECFoFI28zD",
        "outputId": "c18c2e69-9ae8-4e24-ec12-8b3e54750736",
        "colab": {
          "base_uri": "https://localhost:8080/"
        }
      },
      "source": [
        "print (b)"
      ],
      "execution_count": 90,
      "outputs": [
        {
          "output_type": "stream",
          "name": "stdout",
          "text": [
            "('how', (1, 2, 3))\n"
          ]
        }
      ]
    },
    {
      "cell_type": "code",
      "metadata": {
        "id": "5gx8RJnq5GiE",
        "outputId": "88b8d894-dd87-407d-a18f-06a43c299ccd",
        "colab": {
          "base_uri": "https://localhost:8080/"
        }
      },
      "source": [
        "print (b[-1])"
      ],
      "execution_count": 91,
      "outputs": [
        {
          "output_type": "stream",
          "name": "stdout",
          "text": [
            "(1, 2, 3)\n"
          ]
        }
      ]
    },
    {
      "cell_type": "code",
      "metadata": {
        "id": "MjpzmtXBtjdE",
        "outputId": "ee8e6bd7-8ba3-40f9-c61c-8e35ed5a361a",
        "colab": {
          "base_uri": "https://localhost:8080/"
        }
      },
      "source": [
        "#using Constructor\n",
        "new_list = list(('this', 1, \"is\", \"fine\"))\n",
        "new_list"
      ],
      "execution_count": 92,
      "outputs": [
        {
          "output_type": "execute_result",
          "data": {
            "text/plain": [
              "['this', 1, 'is', 'fine']"
            ]
          },
          "metadata": {},
          "execution_count": 92
        }
      ]
    },
    {
      "cell_type": "markdown",
      "metadata": {
        "id": "WtFeKcuL16MW"
      },
      "source": [
        "#### Dictionary (extended data type)"
      ]
    },
    {
      "cell_type": "code",
      "metadata": {
        "id": "kOrp2T1s6sCc"
      },
      "source": [
        "# Dictionary - collection of pairs of (key, value) which are mutable\n",
        "# Constructor is dict()"
      ],
      "execution_count": 93,
      "outputs": []
    },
    {
      "cell_type": "code",
      "metadata": {
        "id": "zDByZj8kWWxh"
      },
      "source": [
        "some_dict = dict({\"age\": 47, \n",
        "                  \"name\": \"Amar\", \n",
        "                  \"marks\": [23, 25, 24, 23]})"
      ],
      "execution_count": 105,
      "outputs": []
    },
    {
      "cell_type": "code",
      "metadata": {
        "id": "cLsbT3Ovvug0",
        "outputId": "79ffc391-b289-4f02-ff53-f9f4012d2dfa",
        "colab": {
          "base_uri": "https://localhost:8080/"
        }
      },
      "source": [
        "type(some_dict)"
      ],
      "execution_count": 106,
      "outputs": [
        {
          "output_type": "execute_result",
          "data": {
            "text/plain": [
              "dict"
            ]
          },
          "metadata": {},
          "execution_count": 106
        }
      ]
    },
    {
      "cell_type": "code",
      "metadata": {
        "id": "j6uIEOVsvixp"
      },
      "source": [
        "another_dict = {\"age\": 47, \n",
        "                  \"name\": \"Amar\", \n",
        "                  \"marks\": [23, 25, 24, 23]}"
      ],
      "execution_count": 96,
      "outputs": []
    },
    {
      "cell_type": "code",
      "metadata": {
        "id": "0-RkMWtevneW",
        "outputId": "0e79c099-da11-4622-a662-c2d8e1620095",
        "colab": {
          "base_uri": "https://localhost:8080/"
        }
      },
      "source": [
        "type(another_dict)"
      ],
      "execution_count": 97,
      "outputs": [
        {
          "output_type": "execute_result",
          "data": {
            "text/plain": [
              "dict"
            ]
          },
          "metadata": {},
          "execution_count": 97
        }
      ]
    },
    {
      "cell_type": "code",
      "metadata": {
        "id": "ScUuut2DRtwW",
        "outputId": "d2ec94cc-e9cf-498d-a88f-ae4a2732acf5",
        "colab": {
          "base_uri": "https://localhost:8080/"
        }
      },
      "source": [
        "print (another_dict.get(\"marks\"))"
      ],
      "execution_count": 98,
      "outputs": [
        {
          "output_type": "stream",
          "name": "stdout",
          "text": [
            "[23, 25, 24, 23]\n"
          ]
        }
      ]
    },
    {
      "cell_type": "code",
      "metadata": {
        "id": "Jr2ocM04wdwG"
      },
      "source": [
        "# update value against a key\n",
        "another_dict[\"marks\"] = [23, 24, 25]"
      ],
      "execution_count": 107,
      "outputs": []
    },
    {
      "cell_type": "code",
      "metadata": {
        "id": "5FLSAGzlxUMi"
      },
      "source": [
        "# adding a new key-value pair\n",
        "another_dict[\"gender\"] = \"Male\""
      ],
      "execution_count": 100,
      "outputs": []
    },
    {
      "cell_type": "code",
      "metadata": {
        "id": "3xFsIN13zS48",
        "outputId": "0a5b9393-30b7-4231-faeb-0ba2d4e939db",
        "colab": {
          "base_uri": "https://localhost:8080/"
        }
      },
      "source": [
        "another_dict"
      ],
      "execution_count": 101,
      "outputs": [
        {
          "output_type": "execute_result",
          "data": {
            "text/plain": [
              "{'age': 47, 'gender': 'Male', 'marks': [23, 24, 25], 'name': 'Amar'}"
            ]
          },
          "metadata": {},
          "execution_count": 101
        }
      ]
    },
    {
      "cell_type": "code",
      "metadata": {
        "id": "lgNNC1V1zJ_p",
        "outputId": "9ab3124f-c7ff-410a-d862-544acb072a21",
        "colab": {
          "base_uri": "https://localhost:8080/",
          "height": 35
        }
      },
      "source": [
        "# removing a key-value pair using pop\n",
        "another_dict.pop(\"gender\")"
      ],
      "execution_count": 102,
      "outputs": [
        {
          "output_type": "execute_result",
          "data": {
            "application/vnd.google.colaboratory.intrinsic+json": {
              "type": "string"
            },
            "text/plain": [
              "'Male'"
            ]
          },
          "metadata": {},
          "execution_count": 102
        }
      ]
    },
    {
      "cell_type": "code",
      "metadata": {
        "id": "zLcTq049y_7F",
        "outputId": "2f0a38f7-d8a6-46b0-9f02-31aa63f39186",
        "colab": {
          "base_uri": "https://localhost:8080/"
        }
      },
      "source": [
        "another_dict"
      ],
      "execution_count": 103,
      "outputs": [
        {
          "output_type": "execute_result",
          "data": {
            "text/plain": [
              "{'age': 47, 'marks': [23, 24, 25], 'name': 'Amar'}"
            ]
          },
          "metadata": {},
          "execution_count": 103
        }
      ]
    },
    {
      "cell_type": "code",
      "metadata": {
        "id": "a5kPOWcJwSVy",
        "outputId": "721a396c-5128-4664-ea6b-b8048537e9b4",
        "colab": {
          "base_uri": "https://localhost:8080/"
        }
      },
      "source": [
        "print (some_dict.keys())"
      ],
      "execution_count": 110,
      "outputs": [
        {
          "output_type": "stream",
          "name": "stdout",
          "text": [
            "dict_keys(['age', 'name', 'marks'])\n"
          ]
        }
      ]
    },
    {
      "cell_type": "markdown",
      "metadata": {
        "id": "n6S0H1QCzvjY"
      },
      "source": [
        "#### Python Identity Operators - is, is not"
      ]
    },
    {
      "cell_type": "code",
      "metadata": {
        "id": "9pBVi4a0z2q5"
      },
      "source": [
        "a = [\"some\", \"list\"]\n",
        "b = [\"some\", \"list\"]\n"
      ],
      "execution_count": 111,
      "outputs": []
    },
    {
      "cell_type": "code",
      "metadata": {
        "id": "a_rsTrml6M1o",
        "outputId": "88c9a6d8-c0f3-4323-871d-156b3951a653",
        "colab": {
          "base_uri": "https://localhost:8080/"
        }
      },
      "source": [
        "if a is b: \n",
        "   print ('a and b reference the same object')\n",
        "else:\n",
        "   print ('a and b do not reference the same object')"
      ],
      "execution_count": 112,
      "outputs": [
        {
          "output_type": "stream",
          "name": "stdout",
          "text": [
            "a and b do not reference the same object\n"
          ]
        }
      ]
    },
    {
      "cell_type": "code",
      "metadata": {
        "id": "3Cf-mRXx6Olj",
        "outputId": "1c686e65-3c20-4d95-cb54-f1afde2da624",
        "colab": {
          "base_uri": "https://localhost:8080/"
        }
      },
      "source": [
        "if a == b:\n",
        "   print ('However, the values of a and b are the same')\n",
        "else:\n",
        "   print (\"The values of a and b are different\")"
      ],
      "execution_count": 113,
      "outputs": [
        {
          "output_type": "stream",
          "name": "stdout",
          "text": [
            "However, the values of a and b are the same\n"
          ]
        }
      ]
    },
    {
      "cell_type": "code",
      "metadata": {
        "id": "2E_co7_i6MbJ",
        "outputId": "cb40af9a-5202-4418-bd53-81daa774493e",
        "colab": {
          "base_uri": "https://localhost:8080/"
        }
      },
      "source": [
        "if a is not b:\n",
        "   print ('tested, they are indeed different')"
      ],
      "execution_count": 114,
      "outputs": [
        {
          "output_type": "stream",
          "name": "stdout",
          "text": [
            "tested, they are indeed different\n"
          ]
        }
      ]
    },
    {
      "cell_type": "markdown",
      "metadata": {
        "id": "sWA5Ii-BU7vA"
      },
      "source": [
        ""
      ]
    },
    {
      "cell_type": "markdown",
      "metadata": {
        "id": "JkZFcHU2z3OC"
      },
      "source": [
        "#### Python Membership Operators - in, not in"
      ]
    },
    {
      "cell_type": "code",
      "metadata": {
        "id": "CR8tAc1_rW11"
      },
      "source": [
        "a = [\"this\", \"is\", \"a\", \"new\", \"list\"]"
      ],
      "execution_count": 115,
      "outputs": []
    },
    {
      "cell_type": "code",
      "metadata": {
        "id": "UibZiI5e2cBj",
        "outputId": "b7f7bf39-ffa5-4d27-c3c5-c1e982a43806",
        "colab": {
          "base_uri": "https://localhost:8080/"
        }
      },
      "source": [
        "% time\n",
        "for item in a: \n",
        "  print (item)"
      ],
      "execution_count": 116,
      "outputs": [
        {
          "output_type": "stream",
          "name": "stdout",
          "text": [
            "CPU times: user 4 µs, sys: 0 ns, total: 4 µs\n",
            "Wall time: 8.82 µs\n",
            "this\n",
            "is\n",
            "a\n",
            "new\n",
            "list\n"
          ]
        }
      ]
    },
    {
      "cell_type": "code",
      "metadata": {
        "id": "n_uiZE9CsPMF",
        "outputId": "b67ff23b-8df9-4a69-f1f4-d967a4137035",
        "colab": {
          "base_uri": "https://localhost:8080/"
        }
      },
      "source": [
        "% time\n",
        "for item in a:\n",
        "  print (item, end=\" \")"
      ],
      "execution_count": 117,
      "outputs": [
        {
          "output_type": "stream",
          "name": "stdout",
          "text": [
            "CPU times: user 4 µs, sys: 0 ns, total: 4 µs\n",
            "Wall time: 7.63 µs\n",
            "this is a new list "
          ]
        }
      ]
    },
    {
      "cell_type": "code",
      "metadata": {
        "id": "Zo1Ec35N2cgk",
        "outputId": "60bdf33c-abdd-4126-e6ef-85153b9e2b65",
        "colab": {
          "base_uri": "https://localhost:8080/"
        }
      },
      "source": [
        "if \"new\" in a: print ('Yes, matching item found')"
      ],
      "execution_count": 118,
      "outputs": [
        {
          "output_type": "stream",
          "name": "stdout",
          "text": [
            "Yes, matching item found\n"
          ]
        }
      ]
    },
    {
      "cell_type": "code",
      "metadata": {
        "id": "5bieGXu5z9Qk",
        "outputId": "5e68f3bd-05ad-41af-f07f-123bd7dba743",
        "colab": {
          "base_uri": "https://localhost:8080/"
        }
      },
      "source": [
        "if (\"list\" not in a):\n",
        "  print (\"Am I wrong\")\n",
        "else:\n",
        "  print (\"Am I right\")"
      ],
      "execution_count": 119,
      "outputs": [
        {
          "output_type": "stream",
          "name": "stdout",
          "text": [
            "Am I right\n"
          ]
        }
      ]
    },
    {
      "cell_type": "markdown",
      "metadata": {
        "id": "AbmcGntt-yTg"
      },
      "source": [
        "#### More Detailed Examples"
      ]
    },
    {
      "cell_type": "markdown",
      "metadata": {
        "id": "sH8rekL73ae4"
      },
      "source": [
        "1. [Python Variables, Data Types](https://www.w3schools.com/python/python_variables.asp) and \n",
        "[Python Exercises ](https://www.w3schools.com/python/python_exercises.asp)\n",
        "2. [Official Python Documentation](https://docs.python.org/3/tutorial/introduction.html)"
      ]
    }
  ]
}